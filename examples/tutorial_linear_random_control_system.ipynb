{
 "cells": [
  {
   "cell_type": "markdown",
   "metadata": {
    "collapsed": true,
    "pycharm": {
     "name": "#%% md\n"
    }
   },
   "source": [
    "# Dynamic mode decomposition with control on a high-dimensional, stable, linear system\n",
    "Dynamic mode decomposition with control (DMDc) aims to disambiguate the effect of control/actuation\n",
    "from the unforced dynamics.\n",
    "We apply DMDc to a high-dimensional, stable, linear system\n",
    "with intrinsic low-dimensional dynamics\n",
    "(this is example 2 in Sec. 4 in Proctor et al., _\"Dynamic Mode Decomposition with Control\"_, SIAM 2016).\n",
    "\n",
    "$$\\hat{x}_{k+1} =A\\hat{x}_k + B u$$"
   ]
  },
  {
   "cell_type": "markdown",
   "source": [
    "We first import the pyKoopman package and other packages for plotting and matrix manipulation."
   ],
   "metadata": {
    "collapsed": false,
    "pycharm": {
     "name": "#%% md\n"
    }
   }
  },
  {
   "cell_type": "code",
   "execution_count": 2,
   "outputs": [],
   "source": [
    "%matplotlib inline\n",
    "import matplotlib.pyplot as plt\n",
    "import numpy as np\n",
    "import warnings\n",
    "warnings.filterwarnings('ignore')\n",
    "\n",
    "import matplotlib.cm as cm\n",
    "\n",
    "import pykoopman as pk"
   ],
   "metadata": {
    "collapsed": false,
    "pycharm": {
     "name": "#%%\n"
    }
   }
  },
  {
   "cell_type": "markdown",
   "source": [
    "Define state and control matrices of the linear control system and collect data."
   ],
   "metadata": {
    "collapsed": false
   }
  },
  {
   "cell_type": "code",
   "execution_count": 210,
   "outputs": [
    {
     "name": "stdout",
     "output_type": "stream",
     "text": [
      "(20, 100)\n"
     ]
    },
    {
     "data": {
      "text/plain": "<matplotlib.legend.Legend at 0x12e937358>"
     },
     "execution_count": 210,
     "metadata": {},
     "output_type": "execute_result"
    },
    {
     "data": {
      "text/plain": "<Figure size 432x216 with 1 Axes>",
      "image/png": "[encoded data removed]"
     },
     "metadata": {
      "needs_background": "light"
     },
     "output_type": "display_data"
    }
   ],
   "source": [
    "from scipy.linalg import orth\n",
    "\n",
    "# Discrete, random, stable, linear state space model\n",
    "def drss(n=2, p=2, m=2,\n",
    "         p_int_first=0.1, p_int_others=0.01,\n",
    "         p_repeat=0.05, p_complex=0.5):\n",
    "    # Number of integrators\n",
    "    nint = int((np.random.rand(1)<p_int_first)+sum(np.random.rand(n-1)<p_int_others));\n",
    "    # Number of repeated roots\n",
    "    nrepeated = int(np.floor(sum(np.random.rand(n-nint)<p_repeat)/2));\n",
    "    # Number of complex roots\n",
    "    ncomplex = int(np.floor(sum(np.random.rand(n-nint-2*nrepeated,1)<p_complex)/2));\n",
    "    nreal = n-nint-2*nrepeated-2*ncomplex;\n",
    "\n",
    "    # Random poles\n",
    "    rep = 2*np.random.rand(nrepeated)-1;\n",
    "    if ncomplex != 0:\n",
    "        mag = np.random.rand(ncomplex);\n",
    "        cplx = np.zeros(ncomplex,dtype=complex)\n",
    "        for i in range(ncomplex):\n",
    "            tmp = np.exp(complex(0,np.pi*np.random.rand(1)))\n",
    "            cplx[i] = mag[i]*np.exp(complex(0,np.pi*np.random.rand(1)))\n",
    "        re = np.real(cplx);\n",
    "        im = np.imag(cplx);\n",
    "\n",
    "    # Generate random state space model\n",
    "    A = np.zeros((n,n))\n",
    "    if ncomplex != 0:\n",
    "        for i in range(0,ncomplex):\n",
    "            A[2*i:2*i+2,2*i:2*i+2] = np.array([[re[i],im[i]],[-im[i],re[i]]])\n",
    "\n",
    "    if 2*ncomplex<n:\n",
    "        list_poles = []\n",
    "        if nint:\n",
    "            list_poles = np.append(list_poles, np.ones(nint))\n",
    "        if rep:\n",
    "            list_poles = np.append(list_poles, rep)\n",
    "            list_poles = np.append(list_poles, rep)\n",
    "        if nreal:\n",
    "            list_poles = np.append(list_poles, 2*np.random.rand(nreal)-1)\n",
    "\n",
    "        A[2*ncomplex:,2*ncomplex:] = np.diag(list_poles)\n",
    "\n",
    "    T = orth(np.random.rand(n,n));\n",
    "    A = (np.transpose(T)@(A@T))\n",
    "\n",
    "    # control matrix\n",
    "    B = np.random.randn(n,p)\n",
    "    # mask for nonzero entries in B\n",
    "    mask = np.random.rand(B.shape[0], B.shape[1])\n",
    "    B = np.squeeze(np.multiply(B, [(mask<0.75) != 0]))\n",
    "\n",
    "    # Measurement matrix\n",
    "    C = np.random.randn(m,n)\n",
    "    mask = np.random.rand(C.shape[0], C.shape[1])\n",
    "    C = np.squeeze(C * [(mask<0.75) != 0])\n",
    "    return A,B,C\n",
    "\n",
    "def advance_linear_system(x0,u,n,A=None,B=None,C=None):\n",
    "    y = np.zeros([n,C.shape[0]])\n",
    "    x = np.zeros([n,len(x0)])\n",
    "    x[0,:] = x0\n",
    "    y[0,:] = C.dot(x[0,:])\n",
    "    for i in range(n-1):\n",
    "        x[i+1,:] = A.dot(x[i,:]) + B.dot(u[:,i])\n",
    "        y[i+1,:] = C.dot(x[i+1,:])\n",
    "    return x,y\n",
    "\n",
    "A,B,C = drss(5,2,100)\n",
    "\n",
    "x0 = np.array([4,7,2,8,0])\n",
    "u = np.array([[-4, -2, -1, -0.5, 0, 0.5, 1, 3, 5, 9, 8, 4, 3.5, 1, 2, 3, 1.5, 0.5, 0, 1],\n",
    "              [4, 1, -1, -0.5, 0, 1, 2, 4, 3, 1.5, 1, 0, -1, -1.5, -2, -1, -3, -5, -9, -7]])\n",
    "n = u.shape[1]\n",
    "x,y = advance_linear_system(x0,u,n,A,B,C)\n",
    "X1 = y[:-1,:]\n",
    "X2 = y[1:,:]\n",
    "U = u\n",
    "print(y.shape)\n",
    "\n"
   ],
   "metadata": {
    "collapsed": false,
    "pycharm": {
     "name": "#%%\n"
    }
   }
  },
  {
   "cell_type": "code",
   "execution_count": null,
   "outputs": [],
   "source": [
    "\n"
   ],
   "metadata": {
    "collapsed": false,
    "pycharm": {
     "name": "#%%\n"
    }
   }
  }
 ],
 "metadata": {
  "kernelspec": {
   "display_name": "Python 3",
   "language": "python",
   "name": "python3"
  },
  "language_info": {
   "codemirror_mode": {
    "name": "ipython",
    "version": 2
   },
   "file_extension": ".py",
   "mimetype": "text/x-python",
   "name": "python",
   "nbconvert_exporter": "python",
   "pygments_lexer": "ipython2",
   "version": "2.7.6"
  }
 },
 "nbformat": 4,
 "nbformat_minor": 0
}