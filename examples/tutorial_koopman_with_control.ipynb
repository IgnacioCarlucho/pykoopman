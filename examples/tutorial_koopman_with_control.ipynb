{
 "cells": [
  {
   "cell_type": "markdown",
   "metadata": {
    "collapsed": true,
    "pycharm": {
     "name": "#%% md\n"
    }
   },
   "source": [
    "# Dynamic mode decomposition with control on a linear system\n",
    "Dynamic mode decomposition with control (DMDc) aims to disambiguate the effect of control/actuation\n",
    "from the unforced dynamics.\n",
    "We apply DMDc to a low-dimensional, linear system\n",
    "(this is example in Sec. 4 in Proctor et al., _\"Dynamic Mode Decomposition with Control\"_, SIAM 2016).\n",
    "\n",
    "$$x_{k+1} =\\begin{bmatrix} 1.5 & 0\\\\ 0 & 0.1 \\end{bmatrix} + \\begin{bmatrix} 1\\\\ 0 \\end{bmatrix} u$$"
   ]
  },
  {
   "cell_type": "markdown",
   "source": [
    "We first import the pyKoopman package and other packages for plotting and matrix manipulation."
   ],
   "metadata": {
    "collapsed": false,
    "pycharm": {
     "name": "#%% md\n"
    }
   }
  },
  {
   "cell_type": "code",
   "execution_count": 9,
   "metadata": {
    "pycharm": {
     "name": "#%%\n"
    }
   },
   "outputs": [],
   "source": [
    "%matplotlib inline\n",
    "import matplotlib.pyplot as plt\n",
    "import numpy as np\n",
    "import warnings\n",
    "warnings.filterwarnings('ignore')\n",
    "\n",
    "import matplotlib.cm as cm\n",
    "from mpl_toolkits.mplot3d import Axes3D\n",
    "\n",
    "import pykoopman as pk"
   ]
  },
  {
   "cell_type": "markdown",
   "metadata": {},
   "source": [
    "Define state and control matrices of the linear control system and collect data."
   ]
  },
  {
   "cell_type": "code",
   "execution_count": 10,
   "metadata": {
    "pycharm": {
     "name": "#%%\n"
    }
   },
   "outputs": [
    {
     "name": "stdout",
     "output_type": "stream",
     "text": [
      "X1 =  [[4.000000e+00 7.000000e+00]\n",
      " [2.000000e+00 7.000000e-01]\n",
      " [1.000000e+00 7.000000e-02]\n",
      " [5.000000e-01 7.000000e-03]\n",
      " [2.500000e-01 7.000000e-04]\n",
      " [3.750000e-01 7.000000e-05]\n",
      " [1.062500e+00 7.000000e-06]\n",
      " [2.593750e+00 7.000000e-07]\n",
      " [6.890625e+00 7.000000e-08]]\n",
      "X2 =  [[2.00000000e+00 7.00000000e-01]\n",
      " [1.00000000e+00 7.00000000e-02]\n",
      " [5.00000000e-01 7.00000000e-03]\n",
      " [2.50000000e-01 7.00000000e-04]\n",
      " [3.75000000e-01 7.00000000e-05]\n",
      " [1.06250000e+00 7.00000000e-06]\n",
      " [2.59375000e+00 7.00000000e-07]\n",
      " [6.89062500e+00 7.00000000e-08]\n",
      " [1.53359375e+01 7.00000000e-09]]\n",
      "C =  [[-4. ]\n",
      " [-2. ]\n",
      " [-1. ]\n",
      " [-0.5]\n",
      " [ 0. ]\n",
      " [ 0.5]\n",
      " [ 1. ]\n",
      " [ 3. ]\n",
      " [ 5. ]]\n"
     ]
    }
   ],
   "source": [
    "A = np.matrix([[1.5, 0],[0, 0.1]])\n",
    "B = np.matrix([[1],[0]])\n",
    "\n",
    "def advance_linear_system(x0,u,n,A=A,B=B):\n",
    "    # A = np.matrix([[1.5, 0],[0, 0.1]])\n",
    "    # B = np.matrix([1,0])\n",
    "    x = np.zeros([n,len(x0)])\n",
    "    x[0,:] = x0\n",
    "    for i in range(n-1):\n",
    "        x[i+1,:] = A.dot(x[i,:]) + B.dot(u[np.newaxis,i])\n",
    "    return x\n",
    "\n",
    "x0 = np.array([4,7])\n",
    "u = np.array([-4, -2, -1, -0.5, 0, 0.5, 1, 3, 5])\n",
    "n = len(u)+1\n",
    "x = advance_linear_system(x0,u,n)\n",
    "X1 = x[:-1,:]\n",
    "X2 = x[1:,:]\n",
    "C = u[:,np.newaxis]\n",
    "print('X1 = ', X1)\n",
    "print('X2 = ', X2)\n",
    "print('C = ', C)"
   ]
  },
  {
   "cell_type": "markdown",
   "metadata": {
    "pycharm": {
     "name": "#%% md\n"
    }
   },
   "source": [
    "Apply first the standard DMD on the state data collected from the controlled system."
   ]
  },
  {
   "cell_type": "code",
   "execution_count": 11,
   "metadata": {
    "pycharm": {
     "name": "#%%\n"
    }
   },
   "outputs": [
    {
     "name": "stdout",
     "output_type": "stream",
     "text": [
      "A =  [[ 2.17160989e+00 -9.95420579e-01]\n",
      " [-1.58023594e-17  1.00000000e-01]]\n"
     ]
    }
   ],
   "source": [
    "U, s, Vh = np.linalg.svd(X1.T, full_matrices=False)\n",
    "Aest = np.dot(X2.T,np.dot(Vh.T*(s**(-1)),U.T))\n",
    "print('A = ', Aest)"
   ]
  },
  {
   "cell_type": "markdown",
   "metadata": {},
   "source": [
    "This is obviously not correct.\n",
    "So let's apply DMDc on the data from the controlled system.\n",
    "We assume for now that the control matrix B is known."
   ]
  },
  {
   "cell_type": "code",
   "execution_count": 12,
   "metadata": {
    "pycharm": {
     "name": "#%%\n"
    }
   },
   "outputs": [
    {
     "name": "stdout",
     "output_type": "stream",
     "text": [
      "[[ 1.50000000e+00 -1.36609474e-17]\n",
      " [-1.58023594e-17  1.00000000e-01]]\n"
     ]
    },
    {
     "data": {
      "text/plain": "True"
     },
     "execution_count": 12,
     "metadata": {},
     "output_type": "execute_result"
    }
   ],
   "source": [
    "DMDc = pk.regression.DMDc(svd_rank=3, control_matrix=B)\n",
    "\n",
    "model = pk.Koopman(regressor=DMDc)\n",
    "model.fit(x,C)\n",
    "Aest = model.state_transition_matrix\n",
    "Best = model.control_matrix\n",
    "\n",
    "print(Aest)\n",
    "np.allclose(A,Aest)"
   ]
  },
  {
   "cell_type": "markdown",
   "metadata": {
    "pycharm": {
     "name": "#%% md\n"
    }
   },
   "source": [
    "This yields the correct system matrix. Let's further assume B is also unknown."
   ]
  },
  {
   "cell_type": "code",
   "execution_count": 14,
   "metadata": {
    "pycharm": {
     "name": "#%%\n"
    }
   },
   "outputs": [
    {
     "name": "stdout",
     "output_type": "stream",
     "text": [
      "[[ 1.5000000e+00  4.6891744e-17]\n",
      " [-1.3259342e-17  1.0000000e-01]]\n",
      "[[1.00000000e+00]\n",
      " [6.88569357e-18]]\n"
     ]
    },
    {
     "data": {
      "text/plain": "True"
     },
     "execution_count": 14,
     "metadata": {},
     "output_type": "execute_result"
    }
   ],
   "source": [
    "DMDc = pk.regression.DMDc(svd_rank=3)\n",
    "\n",
    "model = pk.Koopman(regressor=DMDc)\n",
    "model.fit(x,C)\n",
    "Aest = model.state_transition_matrix\n",
    "Best = model.control_matrix\n",
    "\n",
    "print(Aest)\n",
    "print(Best)\n",
    "np.allclose(B,Best)\n",
    "np.allclose(A,Aest)"
   ]
  },
  {
   "cell_type": "markdown",
   "source": [
    "\n"
   ],
   "metadata": {
    "collapsed": false,
    "pycharm": {
     "name": "#%% md\n"
    }
   }
  }
 ],
 "metadata": {
  "kernelspec": {
   "display_name": "Python 3",
   "language": "python",
   "name": "python3"
  },
  "language_info": {
   "codemirror_mode": {
    "name": "ipython",
    "version": 3
   },
   "file_extension": ".py",
   "mimetype": "text/x-python",
   "name": "python",
   "nbconvert_exporter": "python",
   "pygments_lexer": "ipython3",
   "version": "3.6.9"
  },
  "toc": {
   "base_numbering": 1,
   "nav_menu": {},
   "number_sections": true,
   "sideBar": true,
   "skip_h1_title": false,
   "title_cell": "Table of Contents",
   "title_sidebar": "Contents",
   "toc_cell": false,
   "toc_position": {},
   "toc_section_display": true,
   "toc_window_display": false
  }
 },
 "nbformat": 4,
 "nbformat_minor": 1
}