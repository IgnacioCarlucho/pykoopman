{
 "cells": [
  {
   "cell_type": "markdown",
   "metadata": {
    "collapsed": true,
    "pycharm": {
     "name": "#%% md\n"
    }
   },
   "source": [
    "# Dynamic mode decomposition with control on a linear system\n",
    "We apply dynamic mode decomposition with control (DMD) to a low-dimensional, linear system\n",
    "(this is example in Sec. 4 in Proctor et al., _\"Dynamic Mode Decomposition with Control\"_, SIAM 2016):\n",
    "\n",
    "$$x_{k+1} =\\begin{bmatrix} 1.5 & 0\\\\ 0 & 0.1 \\end{bmatrix} + \\begin{bmatrix} 1\\\\ 0 \\end{bmatrix} u$$"
   ]
  },
  {
   "cell_type": "code",
   "execution_count": 1,
   "outputs": [],
   "source": [
    "%matplotlib inline\n",
    "import matplotlib.pyplot as plt\n",
    "import numpy as np\n",
    "import warnings\n",
    "warnings.filterwarnings('ignore')\n",
    "\n",
    "import matplotlib.cm as cm\n",
    "from mpl_toolkits.mplot3d import Axes3D\n",
    "\n",
    "import pykoopman as pk"
   ],
   "metadata": {
    "collapsed": false,
    "pycharm": {
     "name": "#%%\n"
    }
   }
  },
  {
   "cell_type": "markdown",
   "source": [
    "Integrate system"
   ],
   "metadata": {
    "collapsed": false
   }
  },
  {
   "cell_type": "code",
   "execution_count": 242,
   "outputs": [
    {
     "name": "stdout",
     "output_type": "stream",
     "text": [
      "X1 =  [[4.000000e+00 7.000000e+00]\n",
      " [2.000000e+00 7.000000e-01]\n",
      " [1.000000e+00 7.000000e-02]\n",
      " [5.000000e-01 7.000000e-03]\n",
      " [2.500000e-01 7.000000e-04]\n",
      " [3.750000e-01 7.000000e-05]\n",
      " [1.062500e+00 7.000000e-06]\n",
      " [2.593750e+00 7.000000e-07]\n",
      " [6.890625e+00 7.000000e-08]]\n",
      "X2 =  [[2.00000000e+00 7.00000000e-01]\n",
      " [1.00000000e+00 7.00000000e-02]\n",
      " [5.00000000e-01 7.00000000e-03]\n",
      " [2.50000000e-01 7.00000000e-04]\n",
      " [3.75000000e-01 7.00000000e-05]\n",
      " [1.06250000e+00 7.00000000e-06]\n",
      " [2.59375000e+00 7.00000000e-07]\n",
      " [6.89062500e+00 7.00000000e-08]\n",
      " [1.53359375e+01 7.00000000e-09]]\n",
      "u =  [-4.  -2.  -1.  -0.5  0.   0.5  1.   3.   5. ]\n"
     ]
    }
   ],
   "source": [
    "A = np.matrix([[1.5, 0],[0, 0.1]])\n",
    "B = np.matrix([[1],[0]])\n",
    "\n",
    "def advance_linear_system(x0,u,n,A=A,B=B):\n",
    "    # A = np.matrix([[1.5, 0],[0, 0.1]])\n",
    "    # B = np.matrix([1,0])\n",
    "    x = np.zeros([n,len(x0)])\n",
    "    x[0,:] = x0\n",
    "    for i in range(n-1):\n",
    "        x[i+1,:] = A.dot(x[i,:]) + B.dot(u[np.newaxis,i])\n",
    "    return x\n",
    "\n",
    "x0 = np.array([4,7])\n",
    "u = np.array([-4, -2, -1, -0.5, 0, 0.5, 1, 3, 5])\n",
    "n = len(u)+1\n",
    "x = advance_linear_system(x0,u,n)\n",
    "X1 = x[:-1,:]\n",
    "X2 = x[1:,:]\n",
    "print('X1 = ', X1)\n",
    "print('X2 = ', X2)\n",
    "print('u = ', u)"
   ],
   "metadata": {
    "collapsed": false,
    "pycharm": {
     "name": "#%%\n"
    }
   }
  },
  {
   "cell_type": "markdown",
   "source": [
    "Apply DMD on the data from the controlled system"
   ],
   "metadata": {
    "collapsed": false,
    "pycharm": {
     "name": "#%% md\n"
    }
   }
  },
  {
   "cell_type": "code",
   "execution_count": 243,
   "outputs": [
    {
     "name": "stdout",
     "output_type": "stream",
     "text": [
      "U =  [[-0.84266992 -0.5384305 ]\n",
      " [-0.5384305   0.84266992]]\n",
      "s =  [9.77868806 5.53737234]\n",
      "V =  [[-0.73012792  0.67630768]\n",
      " [-0.2108914  -0.08794642]\n",
      " [-0.09002844 -0.08658323]\n",
      " [-0.0434725  -0.04755262]\n",
      " [-0.02158208 -0.02420241]\n",
      " [-0.03231915 -0.03645275]\n",
      " [-0.0915604  -0.10331191]\n",
      " [-0.22351418 -0.2522051 ]\n",
      " [-0.59379361 -0.67001502]]\n",
      "A =  [[ 2.17160989e+00 -9.95420579e-01]\n",
      " [-1.58023594e-17  1.00000000e-01]]\n"
     ]
    }
   ],
   "source": [
    "U, s, Vh = np.linalg.svd(X1.T, full_matrices=False)\n",
    "print('U = ', U)\n",
    "print('s = ', s)\n",
    "print('V = ', Vh.T)\n",
    "\n",
    "A = np.dot(X2.T,np.dot(Vh.T*(s**(-1)),U.T))\n",
    "print('A = ', A)"
   ],
   "metadata": {
    "collapsed": false,
    "pycharm": {
     "name": "#%%\n"
    }
   }
  },
  {
   "cell_type": "markdown",
   "source": [
    "This is obviously not correct.\n",
    "So let's apply DMDc on the data from the controlled system with known B"
   ],
   "metadata": {
    "collapsed": false
   }
  },
  {
   "cell_type": "code",
   "execution_count": 246,
   "outputs": [
    {
     "name": "stdout",
     "output_type": "stream",
     "text": [
      "A =  [[ 1.50000000e+00 -1.36609474e-17]\n",
      " [-1.58023594e-17  1.00000000e-01]]\n"
     ]
    }
   ],
   "source": [
    "U, s, Vh = np.linalg.svd(X1.T, full_matrices=False)\n",
    "A = np.dot(X2.T-np.dot(B,u[np.newaxis,:]),np.dot(Vh.T*(s**(-1)),U.T))\n",
    "print('A = ', A)"
   ],
   "metadata": {
    "collapsed": false,
    "pycharm": {
     "name": "#%%\n"
    }
   }
  },
  {
   "cell_type": "markdown",
   "source": [
    "This yields the correct system matrix. Let's further assume B is also unknown."
   ],
   "metadata": {
    "collapsed": false,
    "pycharm": {
     "name": "#%% md\n"
    }
   }
  },
  {
   "cell_type": "code",
   "execution_count": 263,
   "outputs": [
    {
     "name": "stdout",
     "output_type": "stream",
     "text": [
      "G =  [[ 1.50000000e+00  4.68917440e-17  1.00000000e+00]\n",
      " [-1.32593420e-17  1.00000000e-01  6.88569357e-18]]\n"
     ]
    },
    {
     "data": {
      "text/plain": "True"
     },
     "execution_count": 263,
     "metadata": {},
     "output_type": "execute_result"
    }
   ],
   "source": [
    "r = 3\n",
    "Omega = np.vstack([X1.T,u[np.newaxis,:]])\n",
    "U, s, Vh = np.linalg.svd(Omega, full_matrices=False)\n",
    "Ur = U[:,0:r]\n",
    "sr = s[0:r]\n",
    "Vr = Vh[0:r,:].T\n",
    "# G = np.dot(X2.T,np.dot(Vh.T*(s**(-1)),U.T))\n",
    "G = np.dot(X2.T,np.dot(Vr*(sr**(-1)),Ur.T))\n",
    "print('G = ', G)\n",
    "\n",
    "Aest = G[:,0:2]\n",
    "Best = G[:,2]\n",
    "\n",
    "np.allclose(A,Aest)\n",
    "np.allclose(B,Best[:,np.newaxis])"
   ],
   "metadata": {
    "collapsed": false,
    "pycharm": {
     "name": "#%%\n"
    }
   }
  },
  {
   "cell_type": "code",
   "execution_count": null,
   "outputs": [],
   "source": [
    "\n"
   ],
   "metadata": {
    "collapsed": false,
    "pycharm": {
     "name": "#%%\n"
    }
   }
  }
 ],
 "metadata": {
  "kernelspec": {
   "display_name": "Python 3",
   "language": "python",
   "name": "python3"
  },
  "language_info": {
   "codemirror_mode": {
    "name": "ipython",
    "version": 2
   },
   "file_extension": ".py",
   "mimetype": "text/x-python",
   "name": "python",
   "nbconvert_exporter": "python",
   "pygments_lexer": "ipython2",
   "version": "2.7.6"
  }
 },
 "nbformat": 4,
 "nbformat_minor": 0
}