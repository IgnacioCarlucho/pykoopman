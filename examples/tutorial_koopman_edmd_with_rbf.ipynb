{
 "cells": [
  {
   "cell_type": "markdown",
   "metadata": {
    "pycharm": {
     "name": "#%% md\n"
    }
   },
   "source": [
    "# Learn a Koopman model using Extended Dynamic Mode Decomposition (EDMD)\n",
    "In this example, we will train a linear Koopman model using EDMD (see Williams,\n",
    "Kevrekidis & Rowley, _\"A Data–Driven Approximation of the Koopman Operator: Extending\n",
    " Dynamic Mode Decomposition\"_, Journal of Nonlinear Science 25, pp. 1307-1346, 2015)\n",
    "for a nonlinear, dynamical system. The approach is demonstrated for discrete-time Van\n",
    " der Pol system in reverse time:\n",
    "\n",
    "$$x_{k+1} = x_k - y_k dt,\\\\\n",
    "y_{k+1} = y_k + (x_k-y_k+x_k^2y_k)dt$$\n",
    "\n",
    "where $dt=0.1$ (this is example II from Surana & Banaszuk, _\"Linear observer synthesis\n",
    "for nonlinear systems using Koopman Operator framework\"_, IFAC 49-18 (2016), pp.\n",
    "716-723)."
   ]
  },
  {
   "cell_type": "code",
   "execution_count": 9,
   "metadata": {
    "pycharm": {
     "name": "#%%\n"
    }
   },
   "outputs": [],
   "source": [
    "import pykoopman as pk\n",
    "import numpy as np\n",
    "import numpy.random as rnd\n",
    "np.random.seed(42)  # for reproducibility\n",
    "import matplotlib.pyplot as plt\n",
    "import matplotlib.patches as mpatches\n",
    "\n",
    "import warnings\n",
    "warnings.filterwarnings('ignore')\n",
    "\n",
    "from pykoopman.common import rev_dvdp  # discrete-time, reverse-time van der Pol"
   ]
  },
  {
   "cell_type": "code",
   "execution_count": null,
   "metadata": {},
   "outputs": [],
   "source": []
  },
  {
   "cell_type": "markdown",
   "metadata": {
    "pycharm": {
     "name": "#%% md\n"
    }
   },
   "source": [
    "### Collect training data\n",
    "The training data consists of a snapshot pair taken from 51 uniformly distributed\n",
    "random initial conditions."
   ]
  },
  {
   "cell_type": "code",
   "execution_count": 10,
   "metadata": {
    "pycharm": {
     "name": "#%%\n"
    }
   },
   "outputs": [],
   "source": [
    "n_states = 2  # Number of states\n",
    "dT = 0.1      # Timestep\n",
    "n_traj = 51   # Number of trajectories\n",
    "n_int = 3     # Integration length\n",
    "\n",
    "# Uniform distribution of initial conditions\n",
    "x = xE = 2*rnd.random([n_states, n_traj])-1\n",
    "\n",
    "# Init\n",
    "X = np.zeros((n_states, n_int*n_traj))\n",
    "Y = np.zeros((n_states, n_int*n_traj))\n",
    "\n",
    "# Integrate\n",
    "for step in range(n_int):\n",
    "    y = rev_dvdp(0, x, 0, dT)\n",
    "    X[:, (step)*n_traj:(step+1)*n_traj] = x\n",
    "    Y[:, (step)*n_traj:(step+1)*n_traj] = y\n",
    "    x = y"
   ]
  },
  {
   "cell_type": "code",
   "execution_count": 11,
   "metadata": {
    "pycharm": {
     "name": "#%%\n"
    }
   },
   "outputs": [],
   "source": [
    "# Visualize first 100 steps of the training data\n",
    "fig, axs = plt.subplots(1, 1, tight_layout=True, figsize=(4, 4))\n",
    "for traj_idx in range(n_traj):\n",
    "    axs.plot([X[0, traj_idx::n_traj], Y[0, traj_idx::n_traj]],\n",
    "             [X[1, traj_idx::n_traj], Y[1, traj_idx::n_traj]], '-ok',markersize=3)\n",
    "axs.set(ylabel=r'$x_2$', xlabel=r'$x_1$')\n",
    "axs.set_title('training data. num traj = {}, each traj time step = {}'.format(n_traj,n_int))"
   ]
  },
  {
   "cell_type": "markdown",
   "metadata": {
    "pycharm": {
     "name": "#%% md\n"
    }
   },
   "source": [
    "### Koopman regression using EDMD\n",
    "As basis functions we choose thinplate radial basis functions."
   ]
  },
  {
   "cell_type": "code",
   "execution_count": 12,
   "metadata": {
    "pycharm": {
     "name": "#%%\n"
    }
   },
   "outputs": [],
   "source": [
    "EDMD = pk.regression.EDMD()\n",
    "RBF = pk.observables.RadialBasisFunction(rbf_type='thinplate', n_centers=20,\n",
    "                                         centers=None, kernel_width=1.0, \n",
    "                                         polyharmonic_coeff=1.0, include_state=True)\n",
    "\n",
    "model = pk.Koopman(observables=RBF, regressor=EDMD)\n",
    "model.fit(X.T, y=Y.T)"
   ]
  },
  {
   "cell_type": "markdown",
   "metadata": {
    "pycharm": {
     "name": "#%% md\n"
    }
   },
   "source": [
    "### Prediction\n",
    "First, we will use the fitted EDMD model to predict the evolution for a single\n",
    "initial condition. The inverse transformation, i.e. from observables back to the\n",
    "state, is estimated using least-squares regression within the Koopman regressor.\n",
    "Afterwards, we will show the prediction performance for the training data."
   ]
  },
  {
   "cell_type": "code",
   "execution_count": 13,
   "metadata": {
    "pycharm": {
     "name": "#%%\n"
    }
   },
   "outputs": [],
   "source": [
    "# x0 = [0.6, -0.6]\n",
    "x0 = np.array([0.5, -0.75])\n",
    "T = 10\n",
    "t = np.arange(0, T, dT)\n",
    "\n",
    "# Integrate\n",
    "Xtrue = np.zeros((len(t), n_states))\n",
    "Xtrue[0, :] = x0\n",
    "for step in range(len(t)-1):\n",
    "    y = rev_dvdp(0, Xtrue[step, :][:, np.newaxis], 0, dT)\n",
    "    Xtrue[step+1, :] = y.ravel()\n",
    "\n",
    "# Simulate (multi-step prediction) Koopman model\n",
    "Xkoop = model.simulate(x0[np.newaxis, :], n_steps=len(t)-1)\n",
    "Xkoop = np.vstack([x0[np.newaxis,:], Xkoop])"
   ]
  },
  {
   "cell_type": "code",
   "execution_count": 14,
   "metadata": {
    "pycharm": {
     "name": "#%%\n"
    }
   },
   "outputs": [],
   "source": [
    "fig, axs = plt.subplots(2, 1, sharex=True, tight_layout=True, figsize=(4, 4))\n",
    "axs[0].plot(t, Xtrue[:, 0], '-', color='b', label='True')\n",
    "axs[0].plot(t, Xkoop[:, 0], '--r', label='EDMDc')\n",
    "axs[0].set(ylabel=r'$x_1$')\n",
    "axs[1].plot(t, Xtrue[:, 1], '-', color='b', label='True')\n",
    "axs[1].plot(t, Xkoop[:, 1], '--r', label='EDMDc')\n",
    "axs[1].set(\n",
    "        ylabel=r'$x_2$',\n",
    "        xlabel=r'$t$')\n",
    "for i in range(2):\n",
    "    axs[i].legend(loc='best')"
   ]
  },
  {
   "cell_type": "code",
   "execution_count": 15,
   "metadata": {
    "pycharm": {
     "name": "#%%\n"
    }
   },
   "outputs": [],
   "source": [
    "# Init\n",
    "Xk = np.zeros((n_states, n_int*n_traj))\n",
    "Yk = np.zeros((n_states, n_int*n_traj))\n",
    "\n",
    "# 1-step prediction using Koopman model\n",
    "x = xE.T\n",
    "for k in range(n_int):\n",
    "    # print(k)\n",
    "    yT = model.predict(x)\n",
    "    y = yT.T\n",
    "    Xk[:, k*n_traj:(k+1)*n_traj] = x.T\n",
    "    Yk[:, k*n_traj:(k+1)*n_traj] = y\n",
    "    x = y.T"
   ]
  },
  {
   "cell_type": "markdown",
   "metadata": {},
   "source": [
    "# Visualize"
   ]
  },
  {
   "cell_type": "code",
   "execution_count": 16,
   "metadata": {
    "pycharm": {
     "name": "#%%\n"
    }
   },
   "outputs": [],
   "source": [
    "\n",
    "fig, axs = plt.subplots(1, 1, tight_layout=True, figsize=(6, 6))\n",
    "legend_list = ['training - true', 'training - pred']\n",
    "for traj_idx in range(n_traj):\n",
    "    # label = legend_list[0] if traj_idx == 0 else None\n",
    "    axs.plot([X[0, traj_idx::n_traj], Y[0, traj_idx::n_traj]],\n",
    "             [X[1, traj_idx::n_traj], Y[1, traj_idx::n_traj]],'-ok',alpha=0.9,markersize=9)\n",
    "    # label = legend_list[1] if traj_idx == 0 else None\n",
    "    axs.plot([Xk[0, traj_idx::n_traj], Yk[0, traj_idx::n_traj]],\n",
    "             [Xk[1, traj_idx::n_traj], Yk[1, traj_idx::n_traj]], '-->r',alpha=0.9)\n",
    "axs.set(ylabel=r'$x_2$',\n",
    "        xlabel=r'$x_1$')\n",
    "\n",
    "axs.plot(Xtrue[:,0], Xtrue[:,1],'-^b')\n",
    "axs.plot(Xkoop[:,0], Xkoop[:,1],'->c')\n",
    "\n",
    "axs.scatter(x0[0],x0[1],s=50,c='b',label='unseen test')\n",
    "axs.set_title('red: train - pred, black: train - original, blue: unseen test')\n",
    "\n",
    "red_patch = mpatches.Patch(color='red', label='training trajectories')\n",
    "black_patch = mpatches.Patch(color='black', label='Koopman prediction on training trajectories')\n",
    "blue_patch = mpatches.Patch(color='blue', label='unseen testing trajectory')\n",
    "cyan_patch = mpatches.Patch(color='cyan', label='Koopman prediction on unseen testing trajectory')\n",
    "\n",
    "axs.set_xlim([-1.75,1.75])\n",
    "axs.set_ylim([-1.75,1.75])\n",
    "\n",
    "axs.legend(handles=[red_patch, black_patch, blue_patch, cyan_patch],loc='best', )\n"
   ]
  }
 ],
 "metadata": {
  "kernelspec": {
   "display_name": "Python 3 (ipykernel)",
   "language": "python",
   "name": "python3"
  },
  "language_info": {
   "codemirror_mode": {
    "name": "ipython",
    "version": 3
   },
   "file_extension": ".py",
   "mimetype": "text/x-python",
   "name": "python",
   "nbconvert_exporter": "python",
   "pygments_lexer": "ipython3",
   "version": "3.10.9"
  }
 },
 "nbformat": 4,
 "nbformat_minor": 1
}
