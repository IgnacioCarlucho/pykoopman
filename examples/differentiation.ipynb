{
 "cells": [
  {
   "cell_type": "markdown",
   "metadata": {},
   "source": [
    "# Differentiation methods\n",
    "This notebook explores various choices of differentiation methods that can be used with PyKoopman's `KoopmanContinuous` class."
   ]
  },
  {
   "cell_type": "markdown",
   "metadata": {},
   "source": [
    "The optional parameter `differentiator` of the `KoopmanContinuous` class allows one to pass in custom time differentiation methods. `differentiator` should be callable with the call signature `differentiator(x, t)` where `x` is a 2D numpy `ndarray` with each example occupying a *row* and `t` is a 1D numpy `ndarray` containing the points in time for each row in `x`.\n",
    "\n",
    "Two common options for `differentiator` are\n",
    "\n",
    "* Methods from the [derivative](https://derivative.readthedocs.io/en/latest/) package, called via the `pykoopman.differentiation.Derivative` wrapper.\n",
    "* Entirely custom methods."
   ]
  },
  {
   "cell_type": "code",
   "execution_count": 3,
   "metadata": {},
   "outputs": [
    {
     "data": {
      "text/plain": [
       "'3.8.10'"
      ]
     },
     "execution_count": 3,
     "metadata": {},
     "output_type": "execute_result"
    }
   ],
   "source": [
    "from platform import python_version\n",
    "python_version() "
   ]
  },
  {
   "cell_type": "code",
   "execution_count": 1,
   "metadata": {
    "ExecuteTime": {
     "end_time": "2020-10-20T00:20:41.905651Z",
     "start_time": "2020-10-20T00:20:41.034185Z"
    }
   },
   "outputs": [
    {
     "ename": "SyntaxError",
     "evalue": "invalid syntax (_radial_basis_functions.py, line 292)",
     "output_type": "error",
     "traceback": [
      "Traceback \u001b[0;36m(most recent call last)\u001b[0m:\n",
      "  File \u001b[1;32m~/Desktop/Work/Research/PyKoopman/pykoopman/venv/lib/python3.8/site-packages/IPython/core/interactiveshell.py:3398\u001b[0m in \u001b[1;35mrun_code\u001b[0m\n    exec(code_obj, self.user_global_ns, self.user_ns)\n",
      "  Input \u001b[1;32mIn [1]\u001b[0m in \u001b[1;35m<cell line: 5>\u001b[0m\n    import pykoopman as pk\n",
      "  File \u001b[1;32m~/Desktop/Work/Research/PyKoopman/pykoopman/pykoopman/__init__.py:9\u001b[0m in \u001b[1;35m<module>\u001b[0m\n    from .koopman import Koopman\n",
      "  File \u001b[1;32m~/Desktop/Work/Research/PyKoopman/pykoopman/pykoopman/koopman.py:16\u001b[0m in \u001b[1;35m<module>\u001b[0m\n    from .observables import Identity\n",
      "\u001b[0;36m  File \u001b[0;32m~/Desktop/Work/Research/PyKoopman/pykoopman/pykoopman/observables/__init__.py:4\u001b[0;36m in \u001b[0;35m<module>\u001b[0;36m\u001b[0m\n\u001b[0;31m    from ._radial_basis_functions import RadialBasisFunction\u001b[0m\n",
      "\u001b[0;36m  File \u001b[0;32m~/Desktop/Work/Research/PyKoopman/pykoopman/pykoopman/observables/_radial_basis_functions.py:292\u001b[0;36m\u001b[0m\n\u001b[0;31m    match self.rbf_type:\u001b[0m\n\u001b[0m          ^\u001b[0m\n\u001b[0;31mSyntaxError\u001b[0m\u001b[0;31m:\u001b[0m invalid syntax\n"
     ]
    }
   ],
   "source": [
    "from derivative import dxdt\n",
    "import matplotlib.pyplot as plt\n",
    "import numpy as np\n",
    "\n",
    "import pykoopman as pk\n",
    "from pydmd import DMD"
   ]
  },
  {
   "cell_type": "code",
   "execution_count": null,
   "metadata": {
    "ExecuteTime": {
     "end_time": "2020-10-20T00:20:42.078894Z",
     "start_time": "2020-10-20T00:20:41.907294Z"
    }
   },
   "outputs": [],
   "source": [
    "t = np.linspace(0, 2, 50)\n",
    "x = np.sin(np.pi * t) + 0.1 * np.random.standard_normal(t.shape)\n",
    "x_dot = np.pi * np.cos(np.pi *  t)\n",
    "\n",
    "plt.plot(t, x, '.')\n",
    "plt.xlabel('t')\n",
    "plt.title('Noisy sine');"
   ]
  },
  {
   "cell_type": "markdown",
   "metadata": {},
   "source": [
    "## Derivative package\n",
    "\n",
    "All of the robust differentiation methods in the [derivative](https://derivative.readthedocs.io/en/latest/) package are available with the `pykoopman.differentiation.Derivative` wrapper class. One need only pass in the same keyword arguments to `Derivative` that one would pass to [derivative.dxdt](https://derivative.readthedocs.io/en/latest/api.html#dxdt-functional-interface).\n",
    "\n",
    "For example, we'll compute the derivative of a noisy sine function with `dxdt` and `Derivative` using spline-based numerical differentiation and compare the results."
   ]
  },
  {
   "cell_type": "code",
   "execution_count": null,
   "metadata": {
    "ExecuteTime": {
     "end_time": "2020-10-20T00:20:42.281295Z",
     "start_time": "2020-10-20T00:20:42.081151Z"
    }
   },
   "outputs": [],
   "source": [
    "kws = dict(kind='spline', s=0.3, periodic=True)\n",
    "x_dot_dxdt = dxdt(x, t, **kws)\n",
    "x_dot_derivative = pk.differentiation.Derivative(**kws)(x, t)\n",
    "\n",
    "plot_kws = dict(alpha=0.7, linewidth=3)\n",
    "plt.plot(t, x_dot, label='Exact', **plot_kws)\n",
    "plt.plot(t, x_dot_dxdt, '--', label='dxdt', **plot_kws)\n",
    "plt.plot(t, x_dot_derivative, ':', label='derivative', **plot_kws)\n",
    "plt.xlabel('t')\n",
    "plt.title('Equivalence of methods')\n",
    "plt.legend();"
   ]
  },
  {
   "cell_type": "markdown",
   "metadata": {},
   "source": [
    "## Custom differentiation method\n",
    "\n",
    "We also have the option of defining a fully custom differentiation function. Here we'll wrap numpy's `gradient` method. We can pass this method into  the `differentiator` argument of a `KoopmanContinuous` object."
   ]
  },
  {
   "cell_type": "code",
   "execution_count": null,
   "metadata": {
    "ExecuteTime": {
     "end_time": "2020-10-20T00:26:19.526100Z",
     "start_time": "2020-10-20T00:26:19.515760Z"
    }
   },
   "outputs": [],
   "source": [
    "from numpy import gradient\n",
    "\n",
    "def diff(x, t):\n",
    "    return gradient(x, axis=0)"
   ]
  },
  {
   "cell_type": "code",
   "execution_count": null,
   "metadata": {
    "ExecuteTime": {
     "end_time": "2020-10-20T00:26:20.349165Z",
     "start_time": "2020-10-20T00:26:20.336317Z"
    }
   },
   "outputs": [],
   "source": [
    "dmd = DMD(svd_rank=2)\n",
    "model = pk.KoopmanContinuous(differentiator=diff, regressor=dmd)\n",
    "model.fit(x, t=t)"
   ]
  }
 ],
 "metadata": {
  "kernelspec": {
   "display_name": "Python 3",
   "language": "python",
   "name": "python3"
  },
  "language_info": {
   "codemirror_mode": {
    "name": "ipython",
    "version": 3
   },
   "file_extension": ".py",
   "mimetype": "text/x-python",
   "name": "python",
   "nbconvert_exporter": "python",
   "pygments_lexer": "ipython3",
   "version": "3.8.10"
  },
  "toc": {
   "base_numbering": 1,
   "nav_menu": {},
   "number_sections": true,
   "sideBar": true,
   "skip_h1_title": false,
   "title_cell": "Table of Contents",
   "title_sidebar": "Contents",
   "toc_cell": false,
   "toc_position": {},
   "toc_section_display": true,
   "toc_window_display": false
  }
 },
 "nbformat": 4,
 "nbformat_minor": 4
}
