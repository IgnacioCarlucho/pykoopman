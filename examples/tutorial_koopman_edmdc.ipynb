{
 "cells": [
  {
   "cell_type": "markdown",
   "source": [
    "# Extended DMD with control for nonlinear systems\n",
    "We apply extended dynamic mode decomposition for control (EDMDc) to a low-dimensional, nonlinear system\n",
    "(this is example in Sec. 4 in Proctor et al., _\"Dynamic Mode Decomposition with Control\"_, SIAM 2016):\n",
    "\n",
    "$$x_{k+1} =\\begin{bmatrix} 1.5 & 0\\\\ 0 & 0.1 \\end{bmatrix} + \\begin{bmatrix} 1\\\\ 0 \\end{bmatrix} u$$"
   ],
   "metadata": {
    "collapsed": false
   }
  },
  {
   "cell_type": "code",
   "execution_count": null,
   "outputs": [],
   "source": [
    "%matplotlib inline\n",
    "import matplotlib.pyplot as plt\n",
    "import numpy as np\n",
    "import warnings\n",
    "warnings.filterwarnings('ignore')\n",
    "\n",
    "import matplotlib.cm as cm\n",
    "from mpl_toolkits.mplot3d import Axes3D\n",
    "\n",
    "import pykoopman as pk"
   ],
   "metadata": {
    "collapsed": false,
    "pycharm": {
     "name": "#%%\n"
    }
   }
  },
  {
   "cell_type": "markdown",
   "source": [
    "Integrate system"
   ],
   "metadata": {
    "collapsed": false
   }
  },
  {
   "cell_type": "code",
   "execution_count": null,
   "outputs": [],
   "source": [
    "A = np.matrix([[1.5, 0],[0, 0.1]])\n",
    "B = np.matrix([[1],[0]])\n",
    "\n",
    "def advance_linear_system(x0,u,n,A=A,B=B):\n",
    "    # A = np.matrix([[1.5, 0],[0, 0.1]])\n",
    "    # B = np.matrix([1,0])\n",
    "    x = np.zeros([n,len(x0)])\n",
    "    x[0,:] = x0\n",
    "    for i in range(n-1):\n",
    "        x[i+1,:] = A.dot(x[i,:]) + B.dot(u[np.newaxis,i])\n",
    "    return x\n",
    "\n",
    "x0 = np.array([4,7])\n",
    "u = np.array([-4, -2, -1, -0.5, 0, 0.5, 1, 3, 5])\n",
    "n = len(u)+1\n",
    "x = advance_linear_system(x0,u,n)\n",
    "X1 = x[:-1,:]\n",
    "X2 = x[1:,:]\n",
    "C = u[:,np.newaxis]\n",
    "print('X1 = ', X1)\n",
    "print('X2 = ', X2)\n",
    "print('C = ', C)"
   ],
   "metadata": {
    "collapsed": false,
    "pycharm": {
     "name": "#%%\n"
    }
   }
  },
  {
   "cell_type": "markdown",
   "source": [
    "Apply DMD on the data from the controlled system"
   ],
   "metadata": {
    "collapsed": false
   }
  },
  {
   "cell_type": "code",
   "execution_count": null,
   "outputs": [],
   "source": [
    "U, s, Vh = np.linalg.svd(X1.T, full_matrices=False)\n",
    "print('U = ', U)\n",
    "print('s = ', s)\n",
    "print('V = ', Vh.T)\n",
    "\n",
    "A = np.dot(X2.T,np.dot(Vh.T*(s**(-1)),U.T))\n",
    "print('A = ', A)"
   ],
   "metadata": {
    "collapsed": false,
    "pycharm": {
     "name": "#%%\n"
    }
   }
  },
  {
   "cell_type": "markdown",
   "source": [
    "This is obviously not correct.\n",
    "So let's apply DMDc on the data from the controlled system with known B"
   ],
   "metadata": {
    "collapsed": false
   }
  },
  {
   "cell_type": "code",
   "execution_count": null,
   "outputs": [],
   "source": [
    "U, s, Vh = np.linalg.svd(X1.T, full_matrices=False)\n",
    "A = np.dot(X2.T-np.dot(B,C.T),np.dot(Vh.T*(s**(-1)),U.T))\n",
    "print('A = ', A)"
   ],
   "metadata": {
    "collapsed": false,
    "pycharm": {
     "name": "#%%\n"
    }
   }
  },
  {
   "cell_type": "markdown",
   "source": [
    "This yields the correct system matrix. Let's further assume B is also unknown."
   ],
   "metadata": {
    "collapsed": false
   }
  },
  {
   "cell_type": "code",
   "execution_count": null,
   "outputs": [],
   "source": [
    "r = 3\n",
    "Omega = np.vstack([X1.T,C.T])\n",
    "U, s, Vh = np.linalg.svd(Omega, full_matrices=False)\n",
    "Ur = U[:,0:r]\n",
    "sr = s[0:r]\n",
    "Vr = Vh[0:r,:].T\n",
    "G = np.dot(X2.T,np.dot(Vr*(sr**(-1)),Ur.T))\n",
    "print('G = ', G)\n",
    "\n",
    "Aest = G[:,0:2]\n",
    "Best = G[:,2]\n",
    "\n",
    "np.allclose(A,Aest)\n",
    "np.allclose(B,Best[:,np.newaxis])\n"
   ],
   "metadata": {
    "collapsed": false,
    "pycharm": {
     "name": "#%%\n"
    }
   }
  },
  {
   "cell_type": "code",
   "execution_count": null,
   "outputs": [],
   "source": [
    "DMDc = pk.DMDc(svd_rank=3)\n",
    "\n",
    "model = pk.Koopman(regressor=DMDc)\n",
    "model.fit(x,C)\n",
    "Aest = model.state_transition_matrix\n",
    "Best = model.control_matrix\n",
    "\n",
    "np.allclose(A,Aest)\n",
    "np.allclose(B,Best)"
   ],
   "metadata": {
    "collapsed": false,
    "pycharm": {
     "name": "#%%\n"
    }
   }
  },
  {
   "cell_type": "code",
   "execution_count": null,
   "outputs": [],
   "source": [],
   "metadata": {
    "collapsed": false,
    "pycharm": {
     "name": "#%%\n"
    }
   }
  },
  {
   "cell_type": "code",
   "execution_count": null,
   "outputs": [],
   "source": [
    "\n",
    "\n",
    "\n"
   ],
   "metadata": {
    "collapsed": false,
    "pycharm": {
     "name": "#%%\n"
    }
   }
  }
 ],
 "metadata": {
  "kernelspec": {
   "display_name": "Python 3",
   "language": "python",
   "name": "python3"
  },
  "language_info": {
   "codemirror_mode": {
    "name": "ipython",
    "version": 2
   },
   "file_extension": ".py",
   "mimetype": "text/x-python",
   "name": "python",
   "nbconvert_exporter": "python",
   "pygments_lexer": "ipython2",
   "version": "2.7.6"
  }
 },
 "nbformat": 4,
 "nbformat_minor": 0
}